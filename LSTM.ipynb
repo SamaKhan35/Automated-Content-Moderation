{
 "cells": [
  {
   "cell_type": "code",
   "execution_count": 1,
   "metadata": {
    "id": "7dHmSOZHZdPX"
   },
   "outputs": [],
   "source": [
    "#=====================Importing Necessary Libraries==========================#\n",
    "\n",
    "import numpy as np\n",
    "import pandas as pd\n",
    "from sklearn.model_selection import train_test_split\n",
    "from keras.preprocessing.text import Tokenizer\n",
    "from keras.preprocessing.sequence import pad_sequences\n",
    "from keras.models import Sequential\n",
    "from keras.layers import LSTM, Embedding, Dense, SpatialDropout1D\n",
    "from keras.callbacks import EarlyStopping\n",
    "from sklearn.metrics import confusion_matrix\n",
    "import seaborn as sns\n",
    "import matplotlib.pyplot as plt\n",
    "from sklearn.metrics import classification_report, accuracy_score, precision_score, recall_score, f1_score"
   ]
  },
  {
   "cell_type": "code",
   "execution_count": 2,
   "metadata": {
    "id": "IjReaKtDCg44"
   },
   "outputs": [],
   "source": [
    "#====================Reading Preprocessed Data========================#\n",
    "\n",
    "df = pd.read_csv('preprocessed_data.csv')\n",
    "\n",
    "df['clean_tweet'] = df['clean_tweet'].astype(str)\n",
    "\n",
    "# Convert preprocessed tweets and labels to numpy arrays\n",
    "tweets = df['clean_tweet'].values\n",
    "labels = df['label'].values"
   ]
  },
  {
   "cell_type": "code",
   "execution_count": 3,
   "metadata": {
    "id": "84xwaorKZ1-U"
   },
   "outputs": [],
   "source": [
    "#=====================Text Tokenization and Sequence Padding======================#\n",
    "\n",
    "# Tokenize the text\n",
    "tokenizer = Tokenizer()\n",
    "tokenizer.fit_on_texts(tweets)\n",
    "vocab_size = len(tokenizer.word_index) + 1\n",
    "sequences = tokenizer.texts_to_sequences(tweets)\n",
    "\n",
    "# Pad sequences to ensure uniform length\n",
    "max_length = max(len(seq) for seq in sequences)\n",
    "X = pad_sequences(sequences, maxlen=max_length)"
   ]
  },
  {
   "cell_type": "code",
   "execution_count": 4,
   "metadata": {
    "id": "DdCwLyjrDPOC"
   },
   "outputs": [],
   "source": [
    "#====================Dataset Split (Training:Testing)=======================#\n",
    "\n",
    "# Convert labels to categorical\n",
    "y = np.array(labels)\n",
    "\n",
    "# Split data into train and test sets\n",
    "X_train, X_test, y_train, y_test = train_test_split(X, y, test_size=0.2, random_state=42)\n"
   ]
  },
  {
   "cell_type": "code",
   "execution_count": 5,
   "metadata": {
    "colab": {
     "base_uri": "https://localhost:8080/"
    },
    "id": "9htFJ-DqDcVq",
    "outputId": "ab934f99-6b32-4b66-c997-b59fe51cc309"
   },
   "outputs": [
    {
     "name": "stderr",
     "output_type": "stream",
     "text": [
      "WARNING:tensorflow:Layer lstm will not use cuDNN kernels since it doesn't meet the criteria. It will use a generic GPU kernel as fallback when running on GPU.\n"
     ]
    }
   ],
   "source": [
    "#====================LSTM Model Build========================#\n",
    "\n",
    "# Build LSTM model\n",
    "embedding_dim = 100\n",
    "model = Sequential()\n",
    "model.add(Embedding(vocab_size, embedding_dim, input_length=max_length))\n",
    "model.add(SpatialDropout1D(0.2))\n",
    "model.add(LSTM(100, dropout=0.2, recurrent_dropout=0.2))\n",
    "model.add(Dense(1, activation='sigmoid'))\n",
    "\n",
    "# Compile model\n",
    "model.compile(loss='binary_crossentropy', optimizer='adam', metrics=['accuracy'])\n"
   ]
  },
  {
   "cell_type": "code",
   "execution_count": 6,
   "metadata": {
    "colab": {
     "base_uri": "https://localhost:8080/"
    },
    "id": "LRxHvgr8DuPd",
    "outputId": "ef3a418c-e8b7-47fa-b41b-fc43576b8b2d"
   },
   "outputs": [
    {
     "name": "stdout",
     "output_type": "stream",
     "text": [
      "Epoch 1/10\n",
      "310/310 [==============================] - 54s 157ms/step - loss: 0.2114 - accuracy: 0.9149 - val_loss: 0.1344 - val_accuracy: 0.9484\n",
      "Epoch 2/10\n",
      "310/310 [==============================] - 32s 103ms/step - loss: 0.0850 - accuracy: 0.9687 - val_loss: 0.1397 - val_accuracy: 0.9455\n",
      "Epoch 3/10\n",
      "310/310 [==============================] - 31s 101ms/step - loss: 0.0521 - accuracy: 0.9815 - val_loss: 0.1745 - val_accuracy: 0.9403\n",
      "Epoch 4/10\n",
      "310/310 [==============================] - 38s 122ms/step - loss: 0.0351 - accuracy: 0.9871 - val_loss: 0.2182 - val_accuracy: 0.9356\n",
      "Epoch 4: early stopping\n"
     ]
    }
   ],
   "source": [
    "#=====================LSTM Model Training=========================#\n",
    "\n",
    "# Apply early stopping to avoid overfitting of data\n",
    "early_stopping = EarlyStopping(monitor='val_loss', patience=3, verbose=1)\n",
    "\n",
    "# Train model\n",
    "batch_size = 64\n",
    "epochs = 10\n",
    "history = model.fit(X_train, y_train,\n",
    "                    batch_size=batch_size,\n",
    "                    epochs=epochs,\n",
    "                    validation_data=(X_test, y_test),\n",
    "                    callbacks=[early_stopping],\n",
    "                    verbose=1)"
   ]
  },
  {
   "cell_type": "code",
   "execution_count": 7,
   "metadata": {
    "colab": {
     "base_uri": "https://localhost:8080/"
    },
    "id": "rUTF5DxQqzp-",
    "outputId": "830313e5-f1c6-43fe-9aa2-31e1d259c321"
   },
   "outputs": [
    {
     "name": "stdout",
     "output_type": "stream",
     "text": [
      "155/155 [==============================] - 2s 11ms/step - loss: 0.2182 - accuracy: 0.9356\n",
      "Test Loss: 0.2181752771139145\n",
      "Test Accuracy: 0.9356465339660645\n",
      "155/155 [==============================] - 2s 9ms/step\n",
      "Classification Report:\n",
      "                precision    recall  f1-score   support\n",
      "\n",
      "  Appropriate       0.83      0.78      0.80       835\n",
      "Inappropriate       0.96      0.97      0.96      4122\n",
      "\n",
      "     accuracy                           0.94      4957\n",
      "    macro avg       0.89      0.87      0.88      4957\n",
      " weighted avg       0.93      0.94      0.93      4957\n",
      "\n",
      "\n",
      "Evaluation Metrics:\n",
      "\n",
      "Accuracy: 0.9356465604196086\n",
      "Precision: 0.9556673855739276\n",
      "Recall: 0.9674915089762252\n",
      "F1-score: 0.9615430982519589\n"
     ]
    }
   ],
   "source": [
    "from sklearn.metrics import classification_report, accuracy_score, precision_score, recall_score, f1_score\n",
    "\n",
    "#============================ Model Evaluation============================#\n",
    "\n",
    "# Evaluate model\n",
    "loss, accuracy = model.evaluate(X_test, y_test)\n",
    "print(\"Test Loss:\", loss)\n",
    "print(\"Test Accuracy:\", accuracy)\n",
    "\n",
    "# Make predictions on the test data\n",
    "y_pred_prob = model.predict(X_test)\n",
    "\n",
    "# Convert probabilities to binary predictions using a threshold (e.g., 0.5)\n",
    "y_pred = (y_pred_prob > 0.5).astype(int)\n",
    "\n",
    "# Generate classification report\n",
    "target_names = ['Appropriate', 'Inappropriate']\n",
    "report = classification_report(y_test, y_pred, target_names=target_names)\n",
    "\n",
    "# Print the classification report\n",
    "print(\"Classification Report:\\n\", report)\n",
    "\n",
    "# Calculate additional evaluation metrics\n",
    "accuracy = accuracy_score(y_test, y_pred)\n",
    "precision = precision_score(y_test, y_pred)\n",
    "recall = recall_score(y_test, y_pred)\n",
    "f1 = f1_score(y_test, y_pred)\n",
    "\n",
    "# Print the evaluation metrics\n",
    "print(\"\\nEvaluation Metrics:\\n\")\n",
    "print(\"Accuracy:\", accuracy)\n",
    "print(\"Precision:\", precision)\n",
    "print(\"Recall:\", recall)\n",
    "print(\"F1-score:\", f1)\n"
   ]
  },
  {
   "cell_type": "code",
   "execution_count": 8,
   "metadata": {
    "colab": {
     "base_uri": "https://localhost:8080/",
     "height": 421
    },
    "id": "94wVm2MFtFCe",
    "outputId": "59e596b1-897e-42fa-acd0-cb016d55bce4"
   },
   "outputs": [
    {
     "data": {
      "image/png": "[encoded data removed]",
      "text/plain": [
       "<Figure size 1000x400 with 1 Axes>"
      ]
     },
     "metadata": {},
     "output_type": "display_data"
    }
   ],
   "source": [
    "#============================ Confusion Matrix ============================#\n",
    "\n",
    "# Compute confusion matrix\n",
    "cm = confusion_matrix(y_test, y_pred)\n",
    "\n",
    "# Plot confusion matrix\n",
    "plt.figure(figsize=(10, 4))\n",
    "plt.subplot(1, 2, 1)\n",
    "sns.heatmap(cm, annot=True, fmt='d', cmap='Blues', cbar=False, annot_kws={\"size\": 14})\n",
    "plt.title('Confusion Matrix - LSTM', fontsize=16)\n",
    "plt.xlabel('Predicted', fontsize=14)\n",
    "plt.ylabel('Actual', fontsize=14)\n",
    "plt.xticks(fontsize=12)\n",
    "plt.yticks(fontsize=12)\n",
    "plt.show()"
   ]
  },
  {
   "cell_type": "code",
   "execution_count": 9,
   "metadata": {
    "colab": {
     "base_uri": "https://localhost:8080/"
    },
    "id": "yYZrlWRtcBf9",
    "outputId": "cc260210-24cb-4ebf-ad6c-36e387cd7c60"
   },
   "outputs": [
    {
     "name": "stderr",
     "output_type": "stream",
     "text": [
      "[nltk_data] Downloading package punkt to /root/nltk_data...\n",
      "[nltk_data]   Unzipping tokenizers/punkt.zip.\n",
      "[nltk_data] Downloading package stopwords to /root/nltk_data...\n",
      "[nltk_data]   Unzipping corpora/stopwords.zip.\n"
     ]
    }
   ],
   "source": [
    "import pandas as pd\n",
    "import numpy as np\n",
    "import matplotlib.pyplot as plt\n",
    "from wordcloud import WordCloud\n",
    "import seaborn as sns\n",
    "import tensorflow as tf\n",
    "import torch\n",
    "from torch.utils.data import DataLoader, Dataset\n",
    "\n",
    "import nltk\n",
    "nltk.download('punkt')\n",
    "nltk.download('stopwords')\n",
    "from nltk import download\n",
    "from nltk.corpus import stopwords\n",
    "from nltk.tokenize import word_tokenize\n",
    "from nltk.stem import PorterStemmer\n",
    "import re\n",
    "\n",
    "#============================ Text Preprocessing ============================#\n",
    "\n",
    "stop_words = set(stopwords.words('english'))\n",
    "stop_words.add(\"rt\") # adding rt to remove retweet in dataset\n",
    "\n",
    "# Removing Emojis\n",
    "def remove_entity(raw_text):\n",
    "    entity_regex = r\"&[^\\s;]+;\"\n",
    "    text = re.sub(entity_regex, \"\", raw_text)\n",
    "    return text\n",
    "\n",
    "# Replacing user tags\n",
    "def change_user(raw_text):\n",
    "    regex = r\"@([^ ]+)\"\n",
    "    text = re.sub(regex, \"user\", raw_text)\n",
    "    return text\n",
    "\n",
    "# Removing URLs\n",
    "def remove_url(raw_text):\n",
    "    url_regex = r\"(?i)\\b((?:https?://|www\\d{0,3}[.]|[a-z0-9.\\-]+[.][a-z]{2,4}/)(?:[^\\s()<>]+|\\(([^\\s()<>]+|(\\([^\\s()<>]+\\)))*\\))+(?:\\(([^\\s()<>]+|(\\([^\\s()<>]+\\)))*\\)|[^\\s`!()\\[\\]{};:'\\\".,<>?«»“”‘’]))\"\n",
    "    text = re.sub(url_regex, '', raw_text)\n",
    "    return text\n",
    "\n",
    "# Removing Unnecessary Symbols\n",
    "def remove_noise_symbols(raw_text):\n",
    "    text = raw_text.replace('\"', '')\n",
    "    text = text.replace(\"'\", '')\n",
    "    text = text.replace(\"!\", '')\n",
    "    text = text.replace(\"`\", '')\n",
    "    text = text.replace(\"..\", '')\n",
    "    text = text.replace(\".\", '')\n",
    "    text = text.replace(\",\", '')\n",
    "    text = text.replace(\"#\", '')\n",
    "    text = text.replace(\":\", '')\n",
    "    text = text.replace(\"@\", '')\n",
    "    text = text.replace(\"?\", '')\n",
    "    return text\n",
    "\n",
    "\n",
    "# Removing stopwords\n",
    "def remove_stopwords(raw_text):\n",
    "    tokenize = word_tokenize(raw_text)\n",
    "    text = [word for word in tokenize if not word.lower() in stop_words]\n",
    "    text = ' '.join(text)\n",
    "    return text\n",
    "\n",
    "# Stemming\n",
    "def stemming(raw_text):\n",
    "    stemmer = PorterStemmer()\n",
    "    words = [stemmer.stem(word) for word in raw_text.split()]\n",
    "    return ' '.join(words)\n",
    "\n",
    "def preprocess(data):\n",
    "    clean = []\n",
    "    clean = [text.lower() for text in data]\n",
    "    clean = [change_user(text) for text in clean]\n",
    "    clean = [remove_entity(text) for text in clean]\n",
    "    clean = [remove_url(text) for text in clean]\n",
    "    clean = [remove_noise_symbols(text) for text in clean]\n",
    "    clean = [stemming(text) for text in clean]\n",
    "    clean = [remove_stopwords(text) for text in clean]\n",
    "\n",
    "    return clean\n"
   ]
  },
  {
   "cell_type": "code",
   "execution_count": 10,
   "metadata": {
    "colab": {
     "base_uri": "https://localhost:8080/"
    },
    "id": "dd0djpUtaLJ3",
    "outputId": "5fb9276e-0a77-4512-affc-cc18d7fa09d5"
   },
   "outputs": [
    {
     "name": "stdout",
     "output_type": "stream",
     "text": [
      "1/1 [==============================] - 0s 84ms/step\n",
      "[[0.66976553]]\n",
      "Inappropriate.\n"
     ]
    }
   ],
   "source": [
    "#============================ Model preformance Testing ============================#\n",
    "\n",
    "# Preprocess custom text\n",
    "custom_text = [\"Kill Yourself\"]\n",
    "preprocessed_custom_text = preprocess(custom_text)[0]\n",
    "\n",
    "# Tokenize and pad the sequence\n",
    "custom_sequence = tokenizer.texts_to_sequences([preprocessed_custom_text])\n",
    "padded_custom_sequence = pad_sequences(custom_sequence, maxlen=max_length)\n",
    "\n",
    "# Make prediction\n",
    "prediction = model.predict(padded_custom_sequence)\n",
    "print(prediction)\n",
    "\n",
    "# Interpret the prediction result\n",
    "if prediction > 0.5:\n",
    "    print(\"Inappropriate.\")\n",
    "else:\n",
    "    print(\"Appropriate.\")\n"
   ]
  }
 ],
 "metadata": {
  "accelerator": "GPU",
  "colab": {
   "gpuType": "T4",
   "provenance": []
  },
  "kernelspec": {
   "display_name": "Python 3 (ipykernel)",
   "language": "python",
   "name": "python3"
  },
  "language_info": {
   "codemirror_mode": {
    "name": "ipython",
    "version": 3
   },
   "file_extension": ".py",
   "mimetype": "text/x-python",
   "name": "python",
   "nbconvert_exporter": "python",
   "pygments_lexer": "ipython3",
   "version": "3.11.5"
  }
 },
 "nbformat": 4,
 "nbformat_minor": 1
}
